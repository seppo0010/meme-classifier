{
 "cells": [
  {
   "cell_type": "code",
   "execution_count": 1,
   "id": "80274753",
   "metadata": {},
   "outputs": [],
   "source": [
    "import xgboost as xgb\n",
    "import pickle\n",
    "from sklearn.model_selection import cross_val_score\n",
    "import pandas as pd\n",
    "import numpy as np\n",
    "import cv2\n",
    "import sys\n",
    "import os\n",
    "from skimage.metrics import structural_similarity, normalized_root_mse, adapted_rand_error, hausdorff_distance, peak_signal_noise_ratio\n",
    "from compare_images import compare_images"
   ]
  },
  {
   "cell_type": "code",
   "execution_count": 2,
   "id": "5ac02a63",
   "metadata": {},
   "outputs": [],
   "source": [
    "csv_path = 'train_data.csv'\n",
    "template_path = 'template'"
   ]
  },
  {
   "cell_type": "code",
   "execution_count": null,
   "id": "f12a9aa1",
   "metadata": {},
   "outputs": [],
   "source": [
    "templates = [(1+i, f, cv2.imread(os.path.join(template_path, f))) for i, f in enumerate(os.listdir(template_path)) if os.path.isfile(os.path.join(template_path, f))]\n",
    "def get_row(path, label):\n",
    "    cols = []\n",
    "    after = cv2.imread(path)\n",
    "    for _, template_name, template_image in templates:\n",
    "        comparison = compare_images(template_image, after)\n",
    "        cols.extend((\n",
    "            comparison['similarity'], \n",
    "            comparison['mse'],\n",
    "            comparison['adapted_rand_error_are'],\n",
    "            comparison['adapted_rand_error_prec'],\n",
    "            comparison['adapted_rand_error_rec'],\n",
    "            comparison['hausdorff_distance'],\n",
    "            comparison['psnr'],\n",
    "        ))\n",
    "    cols.append(label)\n",
    "    return cols\n",
    "\n",
    "rows = []\n",
    "for root, dirs, files in os.walk('train'):\n",
    "    if root == 'train':\n",
    "        continue\n",
    "    if os.path.basename(root) == 'garbage':\n",
    "        label = 0\n",
    "    else:\n",
    "        label = [t[0] for t in templates if os.path.basename(root) == t[1]][0]\n",
    "\n",
    "    for f in files:\n",
    "        rows.append(get_row(os.path.join(root, f), label))\n",
    "\n",
    "columns = []\n",
    "for t in templates:\n",
    "    columns.extend((\n",
    "        t[1] + '_similarity',\n",
    "        t[1] + '_mse',\n",
    "        t[1] + '_adapted_rand_error_are',\n",
    "        t[1] + '_adapted_rand_error_prec',\n",
    "        t[1] + '_adapted_rand_error_rec',\n",
    "        t[1] + '_hausdorff_distance',\n",
    "        t[1] + '_hpsnr',\n",
    "    ))\n",
    "columns.append('label')\n",
    "df = pd.DataFrame(rows, columns=columns)\n",
    "df.to_csv(csv_path)"
   ]
  },
  {
   "cell_type": "code",
   "execution_count": null,
   "id": "bdd64d4b",
   "metadata": {},
   "outputs": [],
   "source": [
    "df = pd.read_csv(csv_path)"
   ]
  },
  {
   "cell_type": "code",
   "execution_count": null,
   "id": "79757fae",
   "metadata": {},
   "outputs": [],
   "source": [
    "X = df.drop(['label', 'Unnamed: 0'], axis=1)\n",
    "y = df['label'].astype(int)"
   ]
  },
  {
   "cell_type": "code",
   "execution_count": null,
   "id": "d2e0b94d",
   "metadata": {},
   "outputs": [],
   "source": [
    "classifier = xgb.XGBClassifier(use_label_encoder=False)\n",
    "print(cross_val_score(classifier, X, y.values, cv=3))"
   ]
  },
  {
   "cell_type": "code",
   "execution_count": null,
   "id": "8b257a51",
   "metadata": {},
   "outputs": [],
   "source": [
    "classifier.fit(X, y)\n",
    "pickle.dump(classifier, open(f'classifier-{csv_path}.pickle', \"wb\"))"
   ]
  }
 ],
 "metadata": {
  "kernelspec": {
   "display_name": "Python 3",
   "language": "python",
   "name": "python3"
  },
  "language_info": {
   "codemirror_mode": {
    "name": "ipython",
    "version": 3
   },
   "file_extension": ".py",
   "mimetype": "text/x-python",
   "name": "python",
   "nbconvert_exporter": "python",
   "pygments_lexer": "ipython3",
   "version": "3.8.5"
  }
 },
 "nbformat": 4,
 "nbformat_minor": 5
}
